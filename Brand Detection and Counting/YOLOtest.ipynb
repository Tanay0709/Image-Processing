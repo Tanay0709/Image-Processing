{
 "cells": [
  {
   "cell_type": "code",
   "execution_count": 6,
   "id": "2d53c6d8-24ed-44de-9f0f-49caa580d9f7",
   "metadata": {},
   "outputs": [
    {
     "data": {
      "image/png": "[encoded data removed]",
      "text/plain": [
       "<Figure size 640x480 with 1 Axes>"
      ]
     },
     "metadata": {},
     "output_type": "display_data"
    },
    {
     "name": "stdout",
     "output_type": "stream",
     "text": [
      "\n",
      "Stopped by user.\n"
     ]
    }
   ],
   "source": [
    "from ultralytics import YOLO\n",
    "import cv2\n",
    "import matplotlib.pyplot as plt\n",
    "from IPython.display import clear_output\n",
    "\n",
    "# Load a YOLOv8 pre-trained model\n",
    "model = YOLO(r\"C:\\Users\\ASUS\\Desktop\\flipkart round 3\\yolov8n.pt\")\n",
    "\n",
    "# Open the webcam\n",
    "cap = cv2.VideoCapture(2)\n",
    "\n",
    "# Check if the webcam is opened\n",
    "if not cap.isOpened():\n",
    "    print(\"Error: Could not open webcam.\")\n",
    "    exit()\n",
    "\n",
    "plt.ion()  # Enable interactive mode for real-time display\n",
    "\n",
    "try:\n",
    "    while True:\n",
    "        ret, frame = cap.read()\n",
    "        if not ret:\n",
    "            print(\"Error: Could not read frame.\")\n",
    "            break\n",
    "\n",
    "        # Perform object detection\n",
    "        results = model(frame)\n",
    "        detections = results[0].boxes\n",
    "        class_names = model.names\n",
    "\n",
    "        # Count objects\n",
    "        object_counts = {}\n",
    "        for box in detections:\n",
    "            cls = int(box.cls)\n",
    "            class_name = class_names[cls]\n",
    "            object_counts[class_name] = object_counts.get(class_name, 0) + 1\n",
    "\n",
    "        # Annotate the frame\n",
    "        annotated_frame = results[0].plot()\n",
    "\n",
    "        # Display the frame using Matplotlib\n",
    "        clear_output(wait=True)  # Clear the previous frame\n",
    "        plt.imshow(cv2.cvtColor(annotated_frame, cv2.COLOR_BGR2RGB))\n",
    "        plt.axis('off')\n",
    "        plt.show()\n",
    "\n",
    "except KeyboardInterrupt:\n",
    "    print(\"Stopped by user.\")\n",
    "finally:\n",
    "    cap.release()\n"
   ]
  },
  {
   "cell_type": "code",
   "execution_count": null,
   "id": "40c97479-f89b-4f5c-be2c-88ff56089501",
   "metadata": {},
   "outputs": [],
   "source": []
  },
  {
   "cell_type": "code",
   "execution_count": null,
   "id": "62b44c5a-74b3-49aa-94b1-a91482f7d553",
   "metadata": {},
   "outputs": [],
   "source": []
  }
 ],
 "metadata": {
  "kernelspec": {
   "display_name": "Python 3 (ipykernel)",
   "language": "python",
   "name": "python3"
  },
  "language_info": {
   "codemirror_mode": {
    "name": "ipython",
    "version": 3
   },
   "file_extension": ".py",
   "mimetype": "text/x-python",
   "name": "python",
   "nbconvert_exporter": "python",
   "pygments_lexer": "ipython3",
   "version": "3.12.4"
  }
 },
 "nbformat": 4,
 "nbformat_minor": 5
}
